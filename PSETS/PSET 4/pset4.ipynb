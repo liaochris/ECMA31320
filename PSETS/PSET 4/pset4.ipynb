{
 "cells": [
  {
   "cell_type": "code",
   "execution_count": 13,
   "metadata": {},
   "outputs": [],
   "source": [
    "import numpy as np\n",
    "import pandas as pd\n",
    "from scipy.optimize import minimize\n",
    "from sklearn.linear_model import LinearRegression"
   ]
  },
  {
   "cell_type": "code",
   "execution_count": 14,
   "metadata": {},
   "outputs": [],
   "source": [
    "df = pd.read_csv('demand_data.csv')"
   ]
  },
  {
   "cell_type": "code",
   "execution_count": 15,
   "metadata": {},
   "outputs": [],
   "source": [
    "res = df['choice'].apply(lambda c: ['x1_prod' + str(c), 'x2_prod' + str(c), 'x3_prod' + str(c)])\n",
    "df[['prod_char1','prod_char2','prod_char3']] = [df.loc[i, res[i]].values for i in range(df.shape[0])]"
   ]
  },
  {
   "cell_type": "code",
   "execution_count": 41,
   "metadata": {},
   "outputs": [],
   "source": [
    "denom = np.zeros(5000)\n",
    "num = np.zeros((5000, 3))\n",
    "for i in range(4):\n",
    "    cols = ['x1_prod' + str(i), 'x2_prod' + str(i), 'x3_prod' + str(i)]\n",
    "\n",
    "\n",
    "    df['rhs_frac'+str(i)] = np.exp(np.matmul(df[cols], beta))\n",
    "    denom += df['rhs_frac'+str(i)].values\n",
    "    num += df[cols].apply(lambda x: np.asarray(x) * np.asarray(df['rhs_frac'+str(i)])).values"
   ]
  },
  {
   "cell_type": "code",
   "execution_count": 50,
   "metadata": {},
   "outputs": [],
   "source": [
    "def calculateScore(beta):\n",
    "    denom = np.zeros(5000)\n",
    "    num = np.zeros((5000, 3))\n",
    "    for i in range(4):\n",
    "        cols = ['x1_prod' + str(i), 'x2_prod' + str(i), 'x3_prod' + str(i)]\n",
    "        \n",
    "        \n",
    "        df['rhs_frac'+str(i)] = np.exp(np.matmul(df[cols], beta))\n",
    "        denom += df['rhs_frac'+str(i)].values\n",
    "        num += df[cols].apply(lambda x: np.asarray(x) * np.asarray(df['rhs_frac'+str(i)])).values\n",
    "\n",
    "    series_dif = (df[['prod_char1','prod_char2','prod_char3']].values - pd.DataFrame(num).divide(denom, axis = 0).values)\n",
    "    return series_dif.sum(axis = 0)"
   ]
  },
  {
   "cell_type": "code",
   "execution_count": 56,
   "metadata": {},
   "outputs": [],
   "source": [
    "def MLE_estimation(beta):\n",
    "    rhs = np.zeros(5000)\n",
    "    for i in range(4):\n",
    "        cols = ['x1_prod' + str(i), 'x2_prod' + str(i), 'x3_prod' + str(i)]\n",
    "        df['rhs_frac'+str(i)] = np.exp(np.matmul(df[cols], beta))\n",
    "        rhs += df['rhs_frac'+str(i)].values\n",
    "\n",
    "    return -np.sum(np.matmul(df[['prod_char1','prod_char2','prod_char3']], beta) - np.log(rhs))"
   ]
  },
  {
   "cell_type": "code",
   "execution_count": 58,
   "metadata": {},
   "outputs": [
    {
     "name": "stderr",
     "output_type": "stream",
     "text": [
      "/opt/anaconda3/lib/python3.7/site-packages/pandas/core/arraylike.py:364: RuntimeWarning: overflow encountered in exp\n",
      "  result = getattr(ufunc, method)(*inputs, **kwargs)\n"
     ]
    }
   ],
   "source": [
    "MLE_calc = minimize(MLE_estimation, [1., 1., 1.], method = 'SLSQP', tol=1e-9)\n",
    "beta_mle = MLE_calc.x"
   ]
  },
  {
   "cell_type": "code",
   "execution_count": 59,
   "metadata": {},
   "outputs": [
    {
     "data": {
      "text/plain": [
       "array([-2.4925639 ,  3.06875208,  1.99283749])"
      ]
     },
     "execution_count": 59,
     "metadata": {},
     "output_type": "execute_result"
    }
   ],
   "source": [
    "beta_mle"
   ]
  },
  {
   "cell_type": "code",
   "execution_count": 60,
   "metadata": {},
   "outputs": [
    {
     "data": {
      "text/plain": [
       "array([ 3.24844658e-04, -1.51474090e-05,  3.96477657e-04])"
      ]
     },
     "execution_count": 60,
     "metadata": {},
     "output_type": "execute_result"
    }
   ],
   "source": [
    "calculateScore(beta_mle)"
   ]
  },
  {
   "cell_type": "code",
   "execution_count": 79,
   "metadata": {},
   "outputs": [],
   "source": [
    "df['choice_market'] = df['choice'].apply(lambda x: str(x)) + '_' + df['marketindex'].apply(lambda x: str(x))"
   ]
  },
  {
   "cell_type": "code",
   "execution_count": 81,
   "metadata": {},
   "outputs": [],
   "source": [
    "choice_dict = dict(df['choice_market'].value_counts())\n",
    "df['outcome'] = np.log(df['choice_market'].apply(lambda c: choice_dict[c]/choice_dict[str(0)+\"_\"+c.split(\"_\")[1]] if str(0)+\"_\"+c.split(\"_\")[1] in choice_dict.keys() else np.nan))"
   ]
  },
  {
   "cell_type": "code",
   "execution_count": 86,
   "metadata": {},
   "outputs": [],
   "source": [
    "df_reg = df[df['outcome'].apply(lambda x: not pd.isnull(x))]"
   ]
  },
  {
   "cell_type": "code",
   "execution_count": 87,
   "metadata": {},
   "outputs": [
    {
     "data": {
      "text/plain": [
       "array([-2.26806387,  2.87693902,  1.83384677])"
      ]
     },
     "execution_count": 87,
     "metadata": {},
     "output_type": "execute_result"
    }
   ],
   "source": [
    "lr = LinearRegression()\n",
    "lr.fit(df_reg[['prod_char1','prod_char2','prod_char3']], df_reg['outcome'])\n",
    "lr.coef_"
   ]
  },
  {
   "cell_type": "code",
   "execution_count": 88,
   "metadata": {},
   "outputs": [
    {
     "data": {
      "text/plain": [
       "array([-870.45967358,  -38.17642343, -934.94875622])"
      ]
     },
     "execution_count": 88,
     "metadata": {},
     "output_type": "execute_result"
    }
   ],
   "source": [
    "calculateScore(lr.coef_)"
   ]
  },
  {
   "cell_type": "code",
   "execution_count": null,
   "metadata": {},
   "outputs": [],
   "source": []
  }
 ],
 "metadata": {
  "kernelspec": {
   "display_name": "Python 3 (ipykernel)",
   "language": "python",
   "name": "python3"
  },
  "language_info": {
   "codemirror_mode": {
    "name": "ipython",
    "version": 3
   },
   "file_extension": ".py",
   "mimetype": "text/x-python",
   "name": "python",
   "nbconvert_exporter": "python",
   "pygments_lexer": "ipython3",
   "version": "3.7.4"
  }
 },
 "nbformat": 4,
 "nbformat_minor": 4
}
